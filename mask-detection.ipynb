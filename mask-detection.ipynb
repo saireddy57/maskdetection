{
 "cells": [
  {
   "cell_type": "code",
   "execution_count": 1,
   "id": "5cdfd802",
   "metadata": {
    "_cell_guid": "b1076dfc-b9ad-4769-8c92-a6c4dae69d19",
    "_uuid": "8f2839f25d086af736a60e9eeb907d3b93b6e0e5",
    "editable": false,
    "execution": {
     "iopub.execute_input": "2023-06-23T09:36:42.093129Z",
     "iopub.status.busy": "2023-06-23T09:36:42.091996Z",
     "iopub.status.idle": "2023-06-23T09:36:44.356933Z",
     "shell.execute_reply": "2023-06-23T09:36:44.355939Z"
    },
    "papermill": {
     "duration": 2.28657,
     "end_time": "2023-06-23T09:36:44.359466",
     "exception": false,
     "start_time": "2023-06-23T09:36:42.072896",
     "status": "completed"
    },
    "tags": []
   },
   "outputs": [],
   "source": [
    "# This Python 3 environment comes with many helpful analytics libraries installed\n",
    "# It is defined by the kaggle/python Docker image: https://github.com/kaggle/docker-python\n",
    "# For example, here's several helpful packages to load\n",
    "\n",
    "import numpy as np # linear algebra\n",
    "import pandas as pd # data processing, CSV file I/O (e.g. pd.read_csv)\n",
    "from sklearn.model_selection import train_test_split\n",
    "import os\n",
    "import shutil\n",
    "from IPython.display import FileLink\n",
    "import yaml\n",
    "import wandb\n",
    "\n",
    "# Input data files are available in the read-only \"../input/\" directory\n",
    "# For example, running this (by clicking run or pressing Shift+Enter) will list all files under the input directory\n",
    "\n",
    "import os\n",
    "for dirname, _, filenames in os.walk('/kaggle/input'):\n",
    "    for filename in filenames:\n",
    "        pass\n",
    "#         print(os.path.join(dirname, filename))\n",
    "\n",
    "# You can write up to 20GB to the current directory (/kaggle/working/) that gets preserved as output when you create a version using \"Save & Run All\" \n",
    "# You can also write temporary files to /kaggle/temp/, but they won't be saved outside of the current session"
   ]
  },
  {
   "cell_type": "code",
   "execution_count": 2,
   "id": "88603bea",
   "metadata": {
    "execution": {
     "iopub.execute_input": "2023-06-23T09:36:44.395276Z",
     "iopub.status.busy": "2023-06-23T09:36:44.394424Z",
     "iopub.status.idle": "2023-06-23T09:36:44.401634Z",
     "shell.execute_reply": "2023-06-23T09:36:44.400813Z"
    },
    "papermill": {
     "duration": 0.026921,
     "end_time": "2023-06-23T09:36:44.403558",
     "exception": false,
     "start_time": "2023-06-23T09:36:44.376637",
     "status": "completed"
    },
    "tags": []
   },
   "outputs": [
    {
     "data": {
      "text/html": [
       "Path (<tt>/kaggle/working/yolov5</tt>) doesn't exist. It may still be in the process of being generated, or you may have the incorrect path."
      ],
      "text/plain": [
       "/kaggle/working/yolov5"
      ]
     },
     "execution_count": 2,
     "metadata": {},
     "output_type": "execute_result"
    }
   ],
   "source": [
    "FileLink('/kaggle/working/yolov5')"
   ]
  },
  {
   "cell_type": "code",
   "execution_count": 3,
   "id": "18c3303d",
   "metadata": {
    "editable": false,
    "execution": {
     "iopub.execute_input": "2023-06-23T09:36:44.439432Z",
     "iopub.status.busy": "2023-06-23T09:36:44.438864Z",
     "iopub.status.idle": "2023-06-23T09:36:44.443223Z",
     "shell.execute_reply": "2023-06-23T09:36:44.442419Z"
    },
    "papermill": {
     "duration": 0.02472,
     "end_time": "2023-06-23T09:36:44.445131",
     "exception": false,
     "start_time": "2023-06-23T09:36:44.420411",
     "status": "completed"
    },
    "tags": []
   },
   "outputs": [],
   "source": [
    "# %pip install comet_ml"
   ]
  },
  {
   "cell_type": "code",
   "execution_count": 4,
   "id": "64c7d249",
   "metadata": {
    "editable": false,
    "execution": {
     "iopub.execute_input": "2023-06-23T09:36:44.484172Z",
     "iopub.status.busy": "2023-06-23T09:36:44.483316Z",
     "iopub.status.idle": "2023-06-23T09:36:44.487618Z",
     "shell.execute_reply": "2023-06-23T09:36:44.486789Z"
    },
    "papermill": {
     "duration": 0.024364,
     "end_time": "2023-06-23T09:36:44.489671",
     "exception": false,
     "start_time": "2023-06-23T09:36:44.465307",
     "status": "completed"
    },
    "tags": []
   },
   "outputs": [],
   "source": [
    "# shutil.rmtree('/kaggle/working/yolo')"
   ]
  },
  {
   "cell_type": "code",
   "execution_count": 5,
   "id": "5d002b81",
   "metadata": {
    "editable": false,
    "execution": {
     "iopub.execute_input": "2023-06-23T09:36:44.525228Z",
     "iopub.status.busy": "2023-06-23T09:36:44.524675Z",
     "iopub.status.idle": "2023-06-23T09:36:44.529010Z",
     "shell.execute_reply": "2023-06-23T09:36:44.528080Z"
    },
    "papermill": {
     "duration": 0.024549,
     "end_time": "2023-06-23T09:36:44.531105",
     "exception": false,
     "start_time": "2023-06-23T09:36:44.506556",
     "status": "completed"
    },
    "tags": []
   },
   "outputs": [],
   "source": [
    "os.makedirs('/kaggle/working/dataset/yolo_type')"
   ]
  },
  {
   "cell_type": "code",
   "execution_count": 6,
   "id": "b4ddd696",
   "metadata": {
    "editable": false,
    "execution": {
     "iopub.execute_input": "2023-06-23T09:36:44.566260Z",
     "iopub.status.busy": "2023-06-23T09:36:44.565957Z",
     "iopub.status.idle": "2023-06-23T09:36:44.577749Z",
     "shell.execute_reply": "2023-06-23T09:36:44.576907Z"
    },
    "papermill": {
     "duration": 0.03204,
     "end_time": "2023-06-23T09:36:44.579931",
     "exception": false,
     "start_time": "2023-06-23T09:36:44.547891",
     "status": "completed"
    },
    "tags": []
   },
   "outputs": [],
   "source": [
    "import os\n",
    "import xml.etree.ElementTree as ET\n",
    "\n",
    "def convert_annotation(xml_path, image_width, image_height):\n",
    "    tree = ET.parse(xml_path)\n",
    "    root = tree.getroot()\n",
    "    class_list = ['without_mask', 'with_mask', 'mask_weared_incorrect']\n",
    "    yolo_annotations = []\n",
    "    \n",
    "    for obj in root.findall('object'):\n",
    "        class_name =class_list.index(obj.find('name').text)\n",
    "#         print(class_name)\n",
    "        bbox = obj.find('bndbox')\n",
    "        xmin = float(bbox.find('xmin').text)\n",
    "        ymin = float(bbox.find('ymin').text)\n",
    "        xmax = float(bbox.find('xmax').text)\n",
    "        ymax = float(bbox.find('ymax').text)\n",
    "        \n",
    "        # Calculate bounding box coordinates and normalize them\n",
    "        x_center = (xmin + xmax) / (2.0 * image_width)\n",
    "        y_center = (ymin + ymax) / (2.0 * image_height)\n",
    "        width = (xmax - xmin) / image_width\n",
    "        height = (ymax - ymin) / image_height\n",
    "        \n",
    "        yolo_annotations.append(f\"{class_name} {x_center} {y_center} {width} {height}\")\n",
    "#     print(yolo_annotations)\n",
    "    return yolo_annotations\n",
    "\n",
    "def convert_dataset(xml_dir, image_dir, output_dir):\n",
    "#     os.makedirs(output_dir, exist_ok=True)\n",
    "\n",
    "    xml_files = os.listdir(xml_dir)\n",
    "    for xml_file in xml_files:\n",
    "        xml_path = os.path.join(xml_dir, xml_file)\n",
    "        image_file = xml_file.replace('.xml', '.png')\n",
    "        image_path = os.path.join(image_dir, image_file)\n",
    "        \n",
    "        if not os.path.exists(image_path):\n",
    "            continue\n",
    "\n",
    "        image = Image.open(image_path)\n",
    "        image_width, image_height = image.size\n",
    "        \n",
    "        yolo_annotations = convert_annotation(xml_path, image_width, image_height)\n",
    "\n",
    "        # Save the YOLO annotations to a text file\n",
    "        txt_filename = xml_file.replace('.xml', '.txt')\n",
    "        txt_path = os.path.join(output_dir, txt_filename)\n",
    "        \n",
    "        with open(txt_path, 'w') as f:\n",
    "            \n",
    "            f.write('\\n'.join(yolo_annotations))\n"
   ]
  },
  {
   "cell_type": "code",
   "execution_count": 7,
   "id": "78213787",
   "metadata": {
    "editable": false,
    "execution": {
     "iopub.execute_input": "2023-06-23T09:36:44.622672Z",
     "iopub.status.busy": "2023-06-23T09:36:44.622371Z",
     "iopub.status.idle": "2023-06-23T09:36:57.780769Z",
     "shell.execute_reply": "2023-06-23T09:36:57.779823Z"
    },
    "papermill": {
     "duration": 13.186121,
     "end_time": "2023-06-23T09:36:57.783080",
     "exception": false,
     "start_time": "2023-06-23T09:36:44.596959",
     "status": "completed"
    },
    "tags": []
   },
   "outputs": [],
   "source": [
    "from PIL import Image\n",
    "\n",
    "# Sample data paths\n",
    "xml_dir = '/kaggle/input/face-mask-detection/annotations'  # Directory containing XML annotation files\n",
    "image_dir = '/kaggle/input/face-mask-detection/images'  # Directory containing corresponding images\n",
    "output_dir = '/kaggle/working/dataset/yolo_type'  # Directory to save the YOLO annotations\n",
    "\n",
    "# Call the convert_dataset function\n",
    "convert_dataset(xml_dir, image_dir, output_dir)\n"
   ]
  },
  {
   "cell_type": "code",
   "execution_count": 8,
   "id": "f2aeea09",
   "metadata": {
    "editable": false,
    "execution": {
     "iopub.execute_input": "2023-06-23T09:36:57.818784Z",
     "iopub.status.busy": "2023-06-23T09:36:57.818180Z",
     "iopub.status.idle": "2023-06-23T09:36:57.823145Z",
     "shell.execute_reply": "2023-06-23T09:36:57.822092Z"
    },
    "papermill": {
     "duration": 0.024942,
     "end_time": "2023-06-23T09:36:57.825202",
     "exception": false,
     "start_time": "2023-06-23T09:36:57.800260",
     "status": "completed"
    },
    "tags": []
   },
   "outputs": [],
   "source": [
    "li = os.listdir('/kaggle/working/dataset/yolo_type')"
   ]
  },
  {
   "cell_type": "code",
   "execution_count": 9,
   "id": "f278bde9",
   "metadata": {
    "editable": false,
    "execution": {
     "iopub.execute_input": "2023-06-23T09:36:57.860013Z",
     "iopub.status.busy": "2023-06-23T09:36:57.859708Z",
     "iopub.status.idle": "2023-06-23T09:36:57.865086Z",
     "shell.execute_reply": "2023-06-23T09:36:57.864233Z"
    },
    "papermill": {
     "duration": 0.025344,
     "end_time": "2023-06-23T09:36:57.867130",
     "exception": false,
     "start_time": "2023-06-23T09:36:57.841786",
     "status": "completed"
    },
    "tags": []
   },
   "outputs": [],
   "source": [
    "def get_number_from_filename(file_name):\n",
    "    return int(file_name.split('.')[0].split('s')[-1])\n",
    "# Sort the files based on the extracted number\n",
    "sorted_files = sorted(li, key=get_number_from_filename)"
   ]
  },
  {
   "cell_type": "code",
   "execution_count": 10,
   "id": "292cb6a8",
   "metadata": {
    "editable": false,
    "execution": {
     "iopub.execute_input": "2023-06-23T09:36:57.901626Z",
     "iopub.status.busy": "2023-06-23T09:36:57.901343Z",
     "iopub.status.idle": "2023-06-23T09:36:57.907884Z",
     "shell.execute_reply": "2023-06-23T09:36:57.907061Z"
    },
    "papermill": {
     "duration": 0.026248,
     "end_time": "2023-06-23T09:36:57.909918",
     "exception": false,
     "start_time": "2023-06-23T09:36:57.883670",
     "status": "completed"
    },
    "tags": []
   },
   "outputs": [],
   "source": [
    "train_directory = os.path.join('/kaggle/working/dataset', 'train/labels')\n",
    "os.makedirs(train_directory, exist_ok=True)\n",
    "test_directory = os.path.join('/kaggle/working/dataset', 'test/labels')\n",
    "os.makedirs(test_directory, exist_ok=True)\n",
    "train_directory_img = os.path.join('/kaggle/working/dataset', 'train/images')\n",
    "test_directory_img = os.path.join('/kaggle/working/dataset', 'test/images')\n",
    "\n",
    "os.makedirs(train_directory_img, exist_ok=True)\n",
    "os.makedirs(test_directory_img, exist_ok=True)\n"
   ]
  },
  {
   "cell_type": "code",
   "execution_count": 11,
   "id": "4a5ac96b",
   "metadata": {
    "editable": false,
    "execution": {
     "iopub.execute_input": "2023-06-23T09:36:57.944813Z",
     "iopub.status.busy": "2023-06-23T09:36:57.944519Z",
     "iopub.status.idle": "2023-06-23T09:36:58.039225Z",
     "shell.execute_reply": "2023-06-23T09:36:58.038110Z"
    },
    "papermill": {
     "duration": 0.115314,
     "end_time": "2023-06-23T09:36:58.041806",
     "exception": false,
     "start_time": "2023-06-23T09:36:57.926492",
     "status": "completed"
    },
    "tags": []
   },
   "outputs": [
    {
     "name": "stdout",
     "output_type": "stream",
     "text": [
      "767 86\n"
     ]
    }
   ],
   "source": [
    "train_files, test_files = train_test_split(sorted_files, test_size=0.1, random_state=42)\n",
    "print(len(train_files),len(test_files))\n",
    "data_directory = '/kaggle/working/dataset/yolo_type'\n",
    "train_directory = '/kaggle/working/dataset/train/labels'\n",
    "test_directory ='/kaggle/working/dataset/test/labels'\n",
    "train_img_directory = '/kaggle/working/dataset/train/images'\n",
    "test_img_directory ='/kaggle/working/dataset/test/images'\n",
    "\n",
    "def store_label_to_folder(directory,files):\n",
    "    for file_name in files:\n",
    "        current_path = os.path.join(data_directory, file_name)\n",
    "        new_path = os.path.join(directory, file_name)\n",
    "        shutil.copy(current_path, new_path)\n",
    "        \n",
    "store_label_to_folder(train_directory,train_files)\n",
    "store_label_to_folder(test_directory,test_files)"
   ]
  },
  {
   "cell_type": "markdown",
   "id": "622965b6",
   "metadata": {
    "editable": false,
    "papermill": {
     "duration": 0.016723,
     "end_time": "2023-06-23T09:36:58.075732",
     "exception": false,
     "start_time": "2023-06-23T09:36:58.059009",
     "status": "completed"
    },
    "tags": []
   },
   "source": []
  },
  {
   "cell_type": "code",
   "execution_count": 12,
   "id": "46b12c3d",
   "metadata": {
    "editable": false,
    "execution": {
     "iopub.execute_input": "2023-06-23T09:36:58.110925Z",
     "iopub.status.busy": "2023-06-23T09:36:58.110609Z",
     "iopub.status.idle": "2023-06-23T09:36:59.289207Z",
     "shell.execute_reply": "2023-06-23T09:36:59.288244Z"
    },
    "papermill": {
     "duration": 1.199009,
     "end_time": "2023-06-23T09:36:59.291580",
     "exception": false,
     "start_time": "2023-06-23T09:36:58.092571",
     "status": "completed"
    },
    "tags": []
   },
   "outputs": [],
   "source": [
    "def add_images_to_folders(label_path,target_dir):\n",
    "    c=0\n",
    "    for file in list(os.listdir(label_path)):\n",
    "        c+=1\n",
    "#         print(file)\n",
    "        new_file_name = file.replace('.txt', '.png') \n",
    "        current_path = os.path.join(image_dir, new_file_name)\n",
    "        new_path = os.path.join(target_dir, new_file_name)\n",
    "        shutil.copy(current_path, new_path)\n",
    "#     print(c)\n",
    "\n",
    "add_images_to_folders('/kaggle/working/dataset/train/labels',train_img_directory)\n",
    "add_images_to_folders('/kaggle/working/dataset/test/labels',test_img_directory)"
   ]
  },
  {
   "cell_type": "markdown",
   "id": "4468b9f0",
   "metadata": {
    "editable": false,
    "papermill": {
     "duration": 0.016457,
     "end_time": "2023-06-23T09:36:59.325184",
     "exception": false,
     "start_time": "2023-06-23T09:36:59.308727",
     "status": "completed"
    },
    "tags": []
   },
   "source": []
  },
  {
   "cell_type": "code",
   "execution_count": 13,
   "id": "bf548b70",
   "metadata": {
    "editable": false,
    "execution": {
     "iopub.execute_input": "2023-06-23T09:36:59.360206Z",
     "iopub.status.busy": "2023-06-23T09:36:59.359382Z",
     "iopub.status.idle": "2023-06-23T09:37:02.584134Z",
     "shell.execute_reply": "2023-06-23T09:37:02.582934Z"
    },
    "papermill": {
     "duration": 3.245158,
     "end_time": "2023-06-23T09:37:02.586892",
     "exception": false,
     "start_time": "2023-06-23T09:36:59.341734",
     "status": "completed"
    },
    "tags": []
   },
   "outputs": [
    {
     "name": "stdout",
     "output_type": "stream",
     "text": [
      "Cloning into 'yolov5'...\r\n",
      "remote: Enumerating objects: 15996, done.\u001b[K\r\n",
      "remote: Counting objects: 100% (165/165), done.\u001b[K\r\n",
      "remote: Compressing objects: 100% (96/96), done.\u001b[K\r\n",
      "remote: Total 15996 (delta 101), reused 111 (delta 69), pack-reused 15831\u001b[K\r\n",
      "Receiving objects: 100% (15996/15996), 14.64 MiB | 15.96 MiB/s, done.\r\n",
      "Resolving deltas: 100% (10974/10974), done.\r\n"
     ]
    }
   ],
   "source": [
    "!git clone https://github.com/ultralytics/yolov5"
   ]
  },
  {
   "cell_type": "markdown",
   "id": "5957d095",
   "metadata": {
    "editable": false,
    "papermill": {
     "duration": 0.019166,
     "end_time": "2023-06-23T09:37:02.625960",
     "exception": false,
     "start_time": "2023-06-23T09:37:02.606794",
     "status": "completed"
    },
    "tags": []
   },
   "source": []
  },
  {
   "cell_type": "code",
   "execution_count": 14,
   "id": "fca14722",
   "metadata": {
    "editable": false,
    "execution": {
     "iopub.execute_input": "2023-06-23T09:37:02.667204Z",
     "iopub.status.busy": "2023-06-23T09:37:02.666238Z",
     "iopub.status.idle": "2023-06-23T09:37:02.673771Z",
     "shell.execute_reply": "2023-06-23T09:37:02.672623Z"
    },
    "papermill": {
     "duration": 0.030661,
     "end_time": "2023-06-23T09:37:02.675960",
     "exception": false,
     "start_time": "2023-06-23T09:37:02.645299",
     "status": "completed"
    },
    "tags": []
   },
   "outputs": [
    {
     "name": "stdout",
     "output_type": "stream",
     "text": [
      "/kaggle/working/yolov5\n"
     ]
    }
   ],
   "source": [
    "%cd yolov5"
   ]
  },
  {
   "cell_type": "code",
   "execution_count": 15,
   "id": "dba1e3f0",
   "metadata": {
    "editable": false,
    "execution": {
     "iopub.execute_input": "2023-06-23T09:37:02.716911Z",
     "iopub.status.busy": "2023-06-23T09:37:02.716102Z",
     "iopub.status.idle": "2023-06-23T09:37:02.723316Z",
     "shell.execute_reply": "2023-06-23T09:37:02.722401Z"
    },
    "papermill": {
     "duration": 0.029925,
     "end_time": "2023-06-23T09:37:02.725248",
     "exception": false,
     "start_time": "2023-06-23T09:37:02.695323",
     "status": "completed"
    },
    "tags": []
   },
   "outputs": [
    {
     "data": {
      "text/plain": [
       "['classify',\n",
       " 'train.py',\n",
       " 'val.py',\n",
       " '.pre-commit-config.yaml',\n",
       " '.gitignore',\n",
       " 'tutorial.ipynb',\n",
       " 'setup.cfg',\n",
       " '.gitattributes',\n",
       " 'detect.py',\n",
       " 'hubconf.py',\n",
       " 'benchmarks.py',\n",
       " 'CITATION.cff',\n",
       " 'data',\n",
       " 'requirements.txt',\n",
       " 'utils',\n",
       " 'models',\n",
       " '.github',\n",
       " 'CONTRIBUTING.md',\n",
       " 'README.zh-CN.md',\n",
       " '.dockerignore',\n",
       " 'README.md',\n",
       " 'LICENSE',\n",
       " 'segment',\n",
       " '.git',\n",
       " 'export.py']"
      ]
     },
     "execution_count": 15,
     "metadata": {},
     "output_type": "execute_result"
    }
   ],
   "source": [
    "os.listdir()"
   ]
  },
  {
   "cell_type": "code",
   "execution_count": 16,
   "id": "5d0f6372",
   "metadata": {
    "editable": false,
    "execution": {
     "iopub.execute_input": "2023-06-23T09:37:02.766129Z",
     "iopub.status.busy": "2023-06-23T09:37:02.765227Z",
     "iopub.status.idle": "2023-06-23T09:37:02.769832Z",
     "shell.execute_reply": "2023-06-23T09:37:02.768961Z"
    },
    "papermill": {
     "duration": 0.027089,
     "end_time": "2023-06-23T09:37:02.771769",
     "exception": false,
     "start_time": "2023-06-23T09:37:02.744680",
     "status": "completed"
    },
    "tags": []
   },
   "outputs": [],
   "source": [
    "# FileLink('/kaggle/working/dataset/test/images/maksssksksss338.png')"
   ]
  },
  {
   "cell_type": "code",
   "execution_count": 17,
   "id": "f3ca0297",
   "metadata": {
    "editable": false,
    "execution": {
     "iopub.execute_input": "2023-06-23T09:37:02.813511Z",
     "iopub.status.busy": "2023-06-23T09:37:02.812700Z",
     "iopub.status.idle": "2023-06-23T09:37:27.225744Z",
     "shell.execute_reply": "2023-06-23T09:37:27.224567Z"
    },
    "papermill": {
     "duration": 24.436704,
     "end_time": "2023-06-23T09:37:27.228212",
     "exception": false,
     "start_time": "2023-06-23T09:37:02.791508",
     "status": "completed"
    },
    "tags": []
   },
   "outputs": [
    {
     "name": "stdout",
     "output_type": "stream",
     "text": [
      "Requirement already satisfied: gitpython>=3.1.30 in /opt/conda/lib/python3.10/site-packages (from -r requirements.txt (line 5)) (3.1.31)\r\n",
      "Requirement already satisfied: matplotlib>=3.3 in /opt/conda/lib/python3.10/site-packages (from -r requirements.txt (line 6)) (3.6.3)\r\n",
      "Requirement already satisfied: numpy>=1.18.5 in /opt/conda/lib/python3.10/site-packages (from -r requirements.txt (line 7)) (1.23.5)\r\n",
      "Requirement already satisfied: opencv-python>=4.1.1 in /opt/conda/lib/python3.10/site-packages (from -r requirements.txt (line 8)) (4.7.0.72)\r\n",
      "Requirement already satisfied: Pillow>=7.1.2 in /opt/conda/lib/python3.10/site-packages (from -r requirements.txt (line 9)) (9.5.0)\r\n",
      "Requirement already satisfied: psutil in /opt/conda/lib/python3.10/site-packages (from -r requirements.txt (line 10)) (5.9.3)\r\n",
      "Requirement already satisfied: PyYAML>=5.3.1 in /opt/conda/lib/python3.10/site-packages (from -r requirements.txt (line 11)) (5.4.1)\r\n",
      "Requirement already satisfied: requests>=2.23.0 in /opt/conda/lib/python3.10/site-packages (from -r requirements.txt (line 12)) (2.28.2)\r\n",
      "Requirement already satisfied: scipy>=1.4.1 in /opt/conda/lib/python3.10/site-packages (from -r requirements.txt (line 13)) (1.10.1)\r\n",
      "Collecting thop>=0.1.1 (from -r requirements.txt (line 14))\r\n",
      "  Downloading thop-0.1.1.post2209072238-py3-none-any.whl (15 kB)\r\n",
      "Requirement already satisfied: torch>=1.7.0 in /opt/conda/lib/python3.10/site-packages (from -r requirements.txt (line 15)) (2.0.0)\r\n",
      "Requirement already satisfied: torchvision>=0.8.1 in /opt/conda/lib/python3.10/site-packages (from -r requirements.txt (line 16)) (0.15.1)\r\n",
      "Requirement already satisfied: tqdm>=4.64.0 in /opt/conda/lib/python3.10/site-packages (from -r requirements.txt (line 17)) (4.64.1)\r\n",
      "Collecting ultralytics>=8.0.111 (from -r requirements.txt (line 18))\r\n",
      "  Downloading ultralytics-8.0.121-py3-none-any.whl (611 kB)\r\n",
      "\u001b[2K     \u001b[90m━━━━━━━━━━━━━━━━━━━━━━━━━━━━━━━━━━━━━━\u001b[0m \u001b[32m611.8/611.8 kB\u001b[0m \u001b[31m17.0 MB/s\u001b[0m eta \u001b[36m0:00:00\u001b[0m\r\n",
      "\u001b[?25hRequirement already satisfied: pandas>=1.1.4 in /opt/conda/lib/python3.10/site-packages (from -r requirements.txt (line 27)) (1.5.3)\r\n",
      "Requirement already satisfied: seaborn>=0.11.0 in /opt/conda/lib/python3.10/site-packages (from -r requirements.txt (line 28)) (0.12.2)\r\n",
      "Collecting setuptools>=65.5.1 (from -r requirements.txt (line 42))\r\n",
      "  Downloading setuptools-68.0.0-py3-none-any.whl (804 kB)\r\n",
      "\u001b[2K     \u001b[90m━━━━━━━━━━━━━━━━━━━━━━━━━━━━━━━━━━━━━━\u001b[0m \u001b[32m804.0/804.0 kB\u001b[0m \u001b[31m43.8 MB/s\u001b[0m eta \u001b[36m0:00:00\u001b[0m\r\n",
      "\u001b[?25hRequirement already satisfied: gitdb<5,>=4.0.1 in /opt/conda/lib/python3.10/site-packages (from gitpython>=3.1.30->-r requirements.txt (line 5)) (4.0.10)\r\n",
      "Requirement already satisfied: contourpy>=1.0.1 in /opt/conda/lib/python3.10/site-packages (from matplotlib>=3.3->-r requirements.txt (line 6)) (1.0.7)\r\n",
      "Requirement already satisfied: cycler>=0.10 in /opt/conda/lib/python3.10/site-packages (from matplotlib>=3.3->-r requirements.txt (line 6)) (0.11.0)\r\n",
      "Requirement already satisfied: fonttools>=4.22.0 in /opt/conda/lib/python3.10/site-packages (from matplotlib>=3.3->-r requirements.txt (line 6)) (4.39.3)\r\n",
      "Requirement already satisfied: kiwisolver>=1.0.1 in /opt/conda/lib/python3.10/site-packages (from matplotlib>=3.3->-r requirements.txt (line 6)) (1.4.4)\r\n",
      "Requirement already satisfied: packaging>=20.0 in /opt/conda/lib/python3.10/site-packages (from matplotlib>=3.3->-r requirements.txt (line 6)) (21.3)\r\n",
      "Requirement already satisfied: pyparsing>=2.2.1 in /opt/conda/lib/python3.10/site-packages (from matplotlib>=3.3->-r requirements.txt (line 6)) (3.0.9)\r\n",
      "Requirement already satisfied: python-dateutil>=2.7 in /opt/conda/lib/python3.10/site-packages (from matplotlib>=3.3->-r requirements.txt (line 6)) (2.8.2)\r\n",
      "Requirement already satisfied: charset-normalizer<4,>=2 in /opt/conda/lib/python3.10/site-packages (from requests>=2.23.0->-r requirements.txt (line 12)) (2.1.1)\r\n",
      "Requirement already satisfied: idna<4,>=2.5 in /opt/conda/lib/python3.10/site-packages (from requests>=2.23.0->-r requirements.txt (line 12)) (3.4)\r\n",
      "Requirement already satisfied: urllib3<1.27,>=1.21.1 in /opt/conda/lib/python3.10/site-packages (from requests>=2.23.0->-r requirements.txt (line 12)) (1.26.15)\r\n",
      "Requirement already satisfied: certifi>=2017.4.17 in /opt/conda/lib/python3.10/site-packages (from requests>=2.23.0->-r requirements.txt (line 12)) (2023.5.7)\r\n",
      "Requirement already satisfied: filelock in /opt/conda/lib/python3.10/site-packages (from torch>=1.7.0->-r requirements.txt (line 15)) (3.12.0)\r\n",
      "Requirement already satisfied: typing-extensions in /opt/conda/lib/python3.10/site-packages (from torch>=1.7.0->-r requirements.txt (line 15)) (4.5.0)\r\n",
      "Requirement already satisfied: sympy in /opt/conda/lib/python3.10/site-packages (from torch>=1.7.0->-r requirements.txt (line 15)) (1.12)\r\n",
      "Requirement already satisfied: networkx in /opt/conda/lib/python3.10/site-packages (from torch>=1.7.0->-r requirements.txt (line 15)) (3.1)\r\n",
      "Requirement already satisfied: jinja2 in /opt/conda/lib/python3.10/site-packages (from torch>=1.7.0->-r requirements.txt (line 15)) (3.1.2)\r\n",
      "Requirement already satisfied: pytz>=2020.1 in /opt/conda/lib/python3.10/site-packages (from pandas>=1.1.4->-r requirements.txt (line 27)) (2023.3)\r\n",
      "Requirement already satisfied: smmap<6,>=3.0.1 in /opt/conda/lib/python3.10/site-packages (from gitdb<5,>=4.0.1->gitpython>=3.1.30->-r requirements.txt (line 5)) (5.0.0)\r\n",
      "Requirement already satisfied: six>=1.5 in /opt/conda/lib/python3.10/site-packages (from python-dateutil>=2.7->matplotlib>=3.3->-r requirements.txt (line 6)) (1.16.0)\r\n",
      "Requirement already satisfied: MarkupSafe>=2.0 in /opt/conda/lib/python3.10/site-packages (from jinja2->torch>=1.7.0->-r requirements.txt (line 15)) (2.1.2)\r\n",
      "Requirement already satisfied: mpmath>=0.19 in /opt/conda/lib/python3.10/site-packages (from sympy->torch>=1.7.0->-r requirements.txt (line 15)) (1.3.0)\r\n",
      "Installing collected packages: setuptools, thop, ultralytics\r\n",
      "  Attempting uninstall: setuptools\r\n",
      "    Found existing installation: setuptools 59.8.0\r\n",
      "    Uninstalling setuptools-59.8.0:\r\n",
      "      Successfully uninstalled setuptools-59.8.0\r\n",
      "\u001b[31mERROR: pip's dependency resolver does not currently take into account all the packages that are installed. This behaviour is the source of the following dependency conflicts.\r\n",
      "opentelemetry-api 1.17.0 requires importlib-metadata~=6.0.0, but you have importlib-metadata 5.2.0 which is incompatible.\r\n",
      "pymc3 3.11.5 requires numpy<1.22.2,>=1.15.0, but you have numpy 1.23.5 which is incompatible.\r\n",
      "pymc3 3.11.5 requires scipy<1.8.0,>=1.7.3, but you have scipy 1.10.1 which is incompatible.\u001b[0m\u001b[31m\r\n",
      "\u001b[0mSuccessfully installed setuptools-68.0.0 thop-0.1.1.post2209072238 ultralytics-8.0.121\r\n",
      "\u001b[33mWARNING: Running pip as the 'root' user can result in broken permissions and conflicting behaviour with the system package manager. It is recommended to use a virtual environment instead: https://pip.pypa.io/warnings/venv\u001b[0m\u001b[33m\r\n",
      "\u001b[0m"
     ]
    }
   ],
   "source": [
    "!pip install -r requirements.txt"
   ]
  },
  {
   "cell_type": "markdown",
   "id": "44be88a9",
   "metadata": {
    "editable": false,
    "papermill": {
     "duration": 0.02135,
     "end_time": "2023-06-23T09:37:27.271235",
     "exception": false,
     "start_time": "2023-06-23T09:37:27.249885",
     "status": "completed"
    },
    "tags": []
   },
   "source": []
  },
  {
   "cell_type": "code",
   "execution_count": 18,
   "id": "eb0e378d",
   "metadata": {
    "editable": false,
    "execution": {
     "iopub.execute_input": "2023-06-23T09:37:27.315080Z",
     "iopub.status.busy": "2023-06-23T09:37:27.314696Z",
     "iopub.status.idle": "2023-06-23T09:37:27.322389Z",
     "shell.execute_reply": "2023-06-23T09:37:27.321192Z"
    },
    "papermill": {
     "duration": 0.032104,
     "end_time": "2023-06-23T09:37:27.324388",
     "exception": false,
     "start_time": "2023-06-23T09:37:27.292284",
     "status": "completed"
    },
    "tags": []
   },
   "outputs": [
    {
     "name": "stdout",
     "output_type": "stream",
     "text": [
      "/kaggle/working\n"
     ]
    }
   ],
   "source": [
    "%cd .."
   ]
  },
  {
   "cell_type": "code",
   "execution_count": 19,
   "id": "b6f50143",
   "metadata": {
    "editable": false,
    "execution": {
     "iopub.execute_input": "2023-06-23T09:37:27.368107Z",
     "iopub.status.busy": "2023-06-23T09:37:27.367777Z",
     "iopub.status.idle": "2023-06-23T09:37:27.375160Z",
     "shell.execute_reply": "2023-06-23T09:37:27.374207Z"
    },
    "papermill": {
     "duration": 0.031594,
     "end_time": "2023-06-23T09:37:27.377100",
     "exception": false,
     "start_time": "2023-06-23T09:37:27.345506",
     "status": "completed"
    },
    "tags": []
   },
   "outputs": [
    {
     "data": {
      "text/plain": [
       "'/kaggle/working'"
      ]
     },
     "execution_count": 19,
     "metadata": {},
     "output_type": "execute_result"
    }
   ],
   "source": [
    "pwd()"
   ]
  },
  {
   "cell_type": "code",
   "execution_count": 20,
   "id": "7d60558c",
   "metadata": {
    "editable": false,
    "execution": {
     "iopub.execute_input": "2023-06-23T09:37:27.426749Z",
     "iopub.status.busy": "2023-06-23T09:37:27.426454Z",
     "iopub.status.idle": "2023-06-23T09:37:28.371459Z",
     "shell.execute_reply": "2023-06-23T09:37:28.370351Z"
    },
    "papermill": {
     "duration": 0.969838,
     "end_time": "2023-06-23T09:37:28.373763",
     "exception": false,
     "start_time": "2023-06-23T09:37:27.403925",
     "status": "completed"
    },
    "tags": []
   },
   "outputs": [
    {
     "name": "stdout",
     "output_type": "stream",
     "text": [
      "/bin/bash: line 1: yolo/bin/activate: No such file or directory\r\n"
     ]
    }
   ],
   "source": [
    "!source yolo/bin/activate"
   ]
  },
  {
   "cell_type": "code",
   "execution_count": 21,
   "id": "f8910797",
   "metadata": {
    "editable": false,
    "execution": {
     "iopub.execute_input": "2023-06-23T09:37:28.451377Z",
     "iopub.status.busy": "2023-06-23T09:37:28.450966Z",
     "iopub.status.idle": "2023-06-23T09:37:28.457423Z",
     "shell.execute_reply": "2023-06-23T09:37:28.456544Z"
    },
    "papermill": {
     "duration": 0.041531,
     "end_time": "2023-06-23T09:37:28.459734",
     "exception": false,
     "start_time": "2023-06-23T09:37:28.418203",
     "status": "completed"
    },
    "tags": []
   },
   "outputs": [
    {
     "name": "stdout",
     "output_type": "stream",
     "text": [
      "/kaggle/working/yolov5\n"
     ]
    }
   ],
   "source": [
    "%cd yolov5"
   ]
  },
  {
   "cell_type": "code",
   "execution_count": 22,
   "id": "9550e2d8",
   "metadata": {
    "editable": false,
    "execution": {
     "iopub.execute_input": "2023-06-23T09:37:28.505284Z",
     "iopub.status.busy": "2023-06-23T09:37:28.503764Z",
     "iopub.status.idle": "2023-06-23T09:37:39.875937Z",
     "shell.execute_reply": "2023-06-23T09:37:39.874757Z"
    },
    "papermill": {
     "duration": 11.397109,
     "end_time": "2023-06-23T09:37:39.878455",
     "exception": false,
     "start_time": "2023-06-23T09:37:28.481346",
     "status": "completed"
    },
    "tags": []
   },
   "outputs": [
    {
     "name": "stdout",
     "output_type": "stream",
     "text": [
      "Requirement already satisfied: gitpython>=3.1.30 in /opt/conda/lib/python3.10/site-packages (from -r requirements.txt (line 5)) (3.1.31)\r\n",
      "Requirement already satisfied: matplotlib>=3.3 in /opt/conda/lib/python3.10/site-packages (from -r requirements.txt (line 6)) (3.6.3)\r\n",
      "Requirement already satisfied: numpy>=1.18.5 in /opt/conda/lib/python3.10/site-packages (from -r requirements.txt (line 7)) (1.23.5)\r\n",
      "Requirement already satisfied: opencv-python>=4.1.1 in /opt/conda/lib/python3.10/site-packages (from -r requirements.txt (line 8)) (4.7.0.72)\r\n",
      "Requirement already satisfied: Pillow>=7.1.2 in /opt/conda/lib/python3.10/site-packages (from -r requirements.txt (line 9)) (9.5.0)\r\n",
      "Requirement already satisfied: psutil in /opt/conda/lib/python3.10/site-packages (from -r requirements.txt (line 10)) (5.9.3)\r\n",
      "Requirement already satisfied: PyYAML>=5.3.1 in /opt/conda/lib/python3.10/site-packages (from -r requirements.txt (line 11)) (5.4.1)\r\n",
      "Requirement already satisfied: requests>=2.23.0 in /opt/conda/lib/python3.10/site-packages (from -r requirements.txt (line 12)) (2.28.2)\r\n",
      "Requirement already satisfied: scipy>=1.4.1 in /opt/conda/lib/python3.10/site-packages (from -r requirements.txt (line 13)) (1.10.1)\r\n",
      "Requirement already satisfied: thop>=0.1.1 in /opt/conda/lib/python3.10/site-packages (from -r requirements.txt (line 14)) (0.1.1.post2209072238)\r\n",
      "Requirement already satisfied: torch>=1.7.0 in /opt/conda/lib/python3.10/site-packages (from -r requirements.txt (line 15)) (2.0.0)\r\n",
      "Requirement already satisfied: torchvision>=0.8.1 in /opt/conda/lib/python3.10/site-packages (from -r requirements.txt (line 16)) (0.15.1)\r\n",
      "Requirement already satisfied: tqdm>=4.64.0 in /opt/conda/lib/python3.10/site-packages (from -r requirements.txt (line 17)) (4.64.1)\r\n",
      "Requirement already satisfied: ultralytics>=8.0.111 in /opt/conda/lib/python3.10/site-packages (from -r requirements.txt (line 18)) (8.0.121)\r\n",
      "Requirement already satisfied: pandas>=1.1.4 in /opt/conda/lib/python3.10/site-packages (from -r requirements.txt (line 27)) (1.5.3)\r\n",
      "Requirement already satisfied: seaborn>=0.11.0 in /opt/conda/lib/python3.10/site-packages (from -r requirements.txt (line 28)) (0.12.2)\r\n",
      "Requirement already satisfied: setuptools>=65.5.1 in /opt/conda/lib/python3.10/site-packages (from -r requirements.txt (line 42)) (68.0.0)\r\n",
      "Requirement already satisfied: gitdb<5,>=4.0.1 in /opt/conda/lib/python3.10/site-packages (from gitpython>=3.1.30->-r requirements.txt (line 5)) (4.0.10)\r\n",
      "Requirement already satisfied: contourpy>=1.0.1 in /opt/conda/lib/python3.10/site-packages (from matplotlib>=3.3->-r requirements.txt (line 6)) (1.0.7)\r\n",
      "Requirement already satisfied: cycler>=0.10 in /opt/conda/lib/python3.10/site-packages (from matplotlib>=3.3->-r requirements.txt (line 6)) (0.11.0)\r\n",
      "Requirement already satisfied: fonttools>=4.22.0 in /opt/conda/lib/python3.10/site-packages (from matplotlib>=3.3->-r requirements.txt (line 6)) (4.39.3)\r\n",
      "Requirement already satisfied: kiwisolver>=1.0.1 in /opt/conda/lib/python3.10/site-packages (from matplotlib>=3.3->-r requirements.txt (line 6)) (1.4.4)\r\n",
      "Requirement already satisfied: packaging>=20.0 in /opt/conda/lib/python3.10/site-packages (from matplotlib>=3.3->-r requirements.txt (line 6)) (21.3)\r\n",
      "Requirement already satisfied: pyparsing>=2.2.1 in /opt/conda/lib/python3.10/site-packages (from matplotlib>=3.3->-r requirements.txt (line 6)) (3.0.9)\r\n",
      "Requirement already satisfied: python-dateutil>=2.7 in /opt/conda/lib/python3.10/site-packages (from matplotlib>=3.3->-r requirements.txt (line 6)) (2.8.2)\r\n",
      "Requirement already satisfied: charset-normalizer<4,>=2 in /opt/conda/lib/python3.10/site-packages (from requests>=2.23.0->-r requirements.txt (line 12)) (2.1.1)\r\n",
      "Requirement already satisfied: idna<4,>=2.5 in /opt/conda/lib/python3.10/site-packages (from requests>=2.23.0->-r requirements.txt (line 12)) (3.4)\r\n",
      "Requirement already satisfied: urllib3<1.27,>=1.21.1 in /opt/conda/lib/python3.10/site-packages (from requests>=2.23.0->-r requirements.txt (line 12)) (1.26.15)\r\n",
      "Requirement already satisfied: certifi>=2017.4.17 in /opt/conda/lib/python3.10/site-packages (from requests>=2.23.0->-r requirements.txt (line 12)) (2023.5.7)\r\n",
      "Requirement already satisfied: filelock in /opt/conda/lib/python3.10/site-packages (from torch>=1.7.0->-r requirements.txt (line 15)) (3.12.0)\r\n",
      "Requirement already satisfied: typing-extensions in /opt/conda/lib/python3.10/site-packages (from torch>=1.7.0->-r requirements.txt (line 15)) (4.5.0)\r\n",
      "Requirement already satisfied: sympy in /opt/conda/lib/python3.10/site-packages (from torch>=1.7.0->-r requirements.txt (line 15)) (1.12)\r\n",
      "Requirement already satisfied: networkx in /opt/conda/lib/python3.10/site-packages (from torch>=1.7.0->-r requirements.txt (line 15)) (3.1)\r\n",
      "Requirement already satisfied: jinja2 in /opt/conda/lib/python3.10/site-packages (from torch>=1.7.0->-r requirements.txt (line 15)) (3.1.2)\r\n",
      "Requirement already satisfied: pytz>=2020.1 in /opt/conda/lib/python3.10/site-packages (from pandas>=1.1.4->-r requirements.txt (line 27)) (2023.3)\r\n",
      "Requirement already satisfied: smmap<6,>=3.0.1 in /opt/conda/lib/python3.10/site-packages (from gitdb<5,>=4.0.1->gitpython>=3.1.30->-r requirements.txt (line 5)) (5.0.0)\r\n",
      "Requirement already satisfied: six>=1.5 in /opt/conda/lib/python3.10/site-packages (from python-dateutil>=2.7->matplotlib>=3.3->-r requirements.txt (line 6)) (1.16.0)\r\n",
      "Requirement already satisfied: MarkupSafe>=2.0 in /opt/conda/lib/python3.10/site-packages (from jinja2->torch>=1.7.0->-r requirements.txt (line 15)) (2.1.2)\r\n",
      "Requirement already satisfied: mpmath>=0.19 in /opt/conda/lib/python3.10/site-packages (from sympy->torch>=1.7.0->-r requirements.txt (line 15)) (1.3.0)\r\n",
      "\u001b[33mWARNING: Running pip as the 'root' user can result in broken permissions and conflicting behaviour with the system package manager. It is recommended to use a virtual environment instead: https://pip.pypa.io/warnings/venv\u001b[0m\u001b[33m\r\n",
      "\u001b[0m"
     ]
    }
   ],
   "source": [
    "!pip install -r requirements.txt"
   ]
  },
  {
   "cell_type": "code",
   "execution_count": 23,
   "id": "202a747e",
   "metadata": {
    "editable": false,
    "execution": {
     "iopub.execute_input": "2023-06-23T09:37:39.926950Z",
     "iopub.status.busy": "2023-06-23T09:37:39.926595Z",
     "iopub.status.idle": "2023-06-23T09:37:40.856359Z",
     "shell.execute_reply": "2023-06-23T09:37:40.855115Z"
    },
    "papermill": {
     "duration": 0.956577,
     "end_time": "2023-06-23T09:37:40.858954",
     "exception": false,
     "start_time": "2023-06-23T09:37:39.902377",
     "status": "completed"
    },
    "tags": []
   },
   "outputs": [
    {
     "name": "stdout",
     "output_type": "stream",
     "text": [
      "/bin/bash: line 1: /kaggle/working/yolov5/weights/download_weights.sh: No such file or directory\r\n"
     ]
    }
   ],
   "source": [
    "!/kaggle/working/yolov5/weights/download_weights.sh"
   ]
  },
  {
   "cell_type": "code",
   "execution_count": 24,
   "id": "bc5600ac",
   "metadata": {
    "execution": {
     "iopub.execute_input": "2023-06-23T09:37:40.907800Z",
     "iopub.status.busy": "2023-06-23T09:37:40.906893Z",
     "iopub.status.idle": "2023-06-23T09:37:40.913927Z",
     "shell.execute_reply": "2023-06-23T09:37:40.913038Z"
    },
    "papermill": {
     "duration": 0.033256,
     "end_time": "2023-06-23T09:37:40.915866",
     "exception": false,
     "start_time": "2023-06-23T09:37:40.882610",
     "status": "completed"
    },
    "tags": []
   },
   "outputs": [
    {
     "data": {
      "text/plain": [
       "'/kaggle/working/yolov5'"
      ]
     },
     "execution_count": 24,
     "metadata": {},
     "output_type": "execute_result"
    }
   ],
   "source": [
    "pwd()"
   ]
  },
  {
   "cell_type": "code",
   "execution_count": 25,
   "id": "9ff045e3",
   "metadata": {
    "editable": false,
    "execution": {
     "iopub.execute_input": "2023-06-23T09:37:40.964417Z",
     "iopub.status.busy": "2023-06-23T09:37:40.962810Z",
     "iopub.status.idle": "2023-06-23T09:37:40.970336Z",
     "shell.execute_reply": "2023-06-23T09:37:40.969435Z"
    },
    "papermill": {
     "duration": 0.033621,
     "end_time": "2023-06-23T09:37:40.972280",
     "exception": false,
     "start_time": "2023-06-23T09:37:40.938659",
     "status": "completed"
    },
    "tags": []
   },
   "outputs": [
    {
     "data": {
      "text/plain": [
       "['classify',\n",
       " 'train.py',\n",
       " 'val.py',\n",
       " '.pre-commit-config.yaml',\n",
       " '.gitignore',\n",
       " 'tutorial.ipynb',\n",
       " 'setup.cfg',\n",
       " '.gitattributes',\n",
       " 'detect.py',\n",
       " 'hubconf.py',\n",
       " 'benchmarks.py',\n",
       " 'CITATION.cff',\n",
       " 'data',\n",
       " 'requirements.txt',\n",
       " 'utils',\n",
       " 'models',\n",
       " '.github',\n",
       " 'CONTRIBUTING.md',\n",
       " 'README.zh-CN.md',\n",
       " '.dockerignore',\n",
       " 'README.md',\n",
       " 'LICENSE',\n",
       " 'segment',\n",
       " '.git',\n",
       " 'export.py']"
      ]
     },
     "execution_count": 25,
     "metadata": {},
     "output_type": "execute_result"
    }
   ],
   "source": [
    "os.listdir('/kaggle/working/yolov5')"
   ]
  },
  {
   "cell_type": "code",
   "execution_count": 26,
   "id": "496d03b9",
   "metadata": {
    "editable": false,
    "execution": {
     "iopub.execute_input": "2023-06-23T09:37:41.020095Z",
     "iopub.status.busy": "2023-06-23T09:37:41.019134Z",
     "iopub.status.idle": "2023-06-23T09:37:41.025866Z",
     "shell.execute_reply": "2023-06-23T09:37:41.024617Z"
    },
    "papermill": {
     "duration": 0.032518,
     "end_time": "2023-06-23T09:37:41.027846",
     "exception": false,
     "start_time": "2023-06-23T09:37:40.995328",
     "status": "completed"
    },
    "tags": []
   },
   "outputs": [
    {
     "name": "stdout",
     "output_type": "stream",
     "text": [
      "/kaggle/working/yolov5\n"
     ]
    }
   ],
   "source": [
    "%cd /kaggle/working/yolov5"
   ]
  },
  {
   "cell_type": "code",
   "execution_count": 27,
   "id": "2cbaecc2",
   "metadata": {
    "editable": false,
    "execution": {
     "iopub.execute_input": "2023-06-23T09:37:41.076701Z",
     "iopub.status.busy": "2023-06-23T09:37:41.075886Z",
     "iopub.status.idle": "2023-06-23T09:37:42.019017Z",
     "shell.execute_reply": "2023-06-23T09:37:42.017859Z"
    },
    "papermill": {
     "duration": 0.970798,
     "end_time": "2023-06-23T09:37:42.021763",
     "exception": false,
     "start_time": "2023-06-23T09:37:41.050965",
     "status": "completed"
    },
    "tags": []
   },
   "outputs": [
    {
     "name": "stdout",
     "output_type": "stream",
     "text": [
      "CITATION.cff\t README.zh-CN.md  detect.py   requirements.txt\ttutorial.ipynb\r\n",
      "CONTRIBUTING.md  benchmarks.py\t  export.py   segment\t\tutils\r\n",
      "LICENSE\t\t classify\t  hubconf.py  setup.cfg\t\tval.py\r\n",
      "README.md\t data\t\t  models      train.py\r\n"
     ]
    }
   ],
   "source": [
    "!ls"
   ]
  },
  {
   "cell_type": "code",
   "execution_count": 28,
   "id": "ea18809a",
   "metadata": {
    "editable": false,
    "execution": {
     "iopub.execute_input": "2023-06-23T09:37:42.072191Z",
     "iopub.status.busy": "2023-06-23T09:37:42.071129Z",
     "iopub.status.idle": "2023-06-23T09:37:42.078899Z",
     "shell.execute_reply": "2023-06-23T09:37:42.077499Z"
    },
    "papermill": {
     "duration": 0.03509,
     "end_time": "2023-06-23T09:37:42.080880",
     "exception": false,
     "start_time": "2023-06-23T09:37:42.045790",
     "status": "completed"
    },
    "tags": []
   },
   "outputs": [
    {
     "name": "stdout",
     "output_type": "stream",
     "text": [
      "/kaggle/working/yolov5/data\n"
     ]
    }
   ],
   "source": [
    "%cd data"
   ]
  },
  {
   "cell_type": "code",
   "execution_count": 29,
   "id": "5a9f4521",
   "metadata": {
    "editable": false,
    "execution": {
     "iopub.execute_input": "2023-06-23T09:37:42.129266Z",
     "iopub.status.busy": "2023-06-23T09:37:42.128417Z",
     "iopub.status.idle": "2023-06-23T09:37:42.134609Z",
     "shell.execute_reply": "2023-06-23T09:37:42.133498Z"
    },
    "papermill": {
     "duration": 0.032314,
     "end_time": "2023-06-23T09:37:42.136578",
     "exception": false,
     "start_time": "2023-06-23T09:37:42.104264",
     "status": "completed"
    },
    "tags": []
   },
   "outputs": [
    {
     "name": "stdout",
     "output_type": "stream",
     "text": [
      "/kaggle/working/yolov5/data/scripts\n"
     ]
    }
   ],
   "source": [
    "%cd scripts/"
   ]
  },
  {
   "cell_type": "code",
   "execution_count": 30,
   "id": "2da3fd2a",
   "metadata": {
    "editable": false,
    "execution": {
     "iopub.execute_input": "2023-06-23T09:37:42.185280Z",
     "iopub.status.busy": "2023-06-23T09:37:42.184955Z",
     "iopub.status.idle": "2023-06-23T09:37:43.122157Z",
     "shell.execute_reply": "2023-06-23T09:37:43.120937Z"
    },
    "papermill": {
     "duration": 0.964568,
     "end_time": "2023-06-23T09:37:43.124517",
     "exception": false,
     "start_time": "2023-06-23T09:37:42.159949",
     "status": "completed"
    },
    "tags": []
   },
   "outputs": [
    {
     "name": "stdout",
     "output_type": "stream",
     "text": [
      "download_weights.sh  get_coco.sh  get_coco128.sh  get_imagenet.sh\r\n"
     ]
    }
   ],
   "source": [
    "!ls"
   ]
  },
  {
   "cell_type": "markdown",
   "id": "1597370f",
   "metadata": {
    "editable": false,
    "papermill": {
     "duration": 0.023822,
     "end_time": "2023-06-23T09:37:43.172670",
     "exception": false,
     "start_time": "2023-06-23T09:37:43.148848",
     "status": "completed"
    },
    "tags": []
   },
   "source": []
  },
  {
   "cell_type": "markdown",
   "id": "80ae636c",
   "metadata": {
    "editable": false,
    "papermill": {
     "duration": 0.023422,
     "end_time": "2023-06-23T09:37:43.220066",
     "exception": false,
     "start_time": "2023-06-23T09:37:43.196644",
     "status": "completed"
    },
    "tags": []
   },
   "source": []
  },
  {
   "cell_type": "code",
   "execution_count": 31,
   "id": "a884d1f8",
   "metadata": {
    "editable": false,
    "execution": {
     "iopub.execute_input": "2023-06-23T09:37:43.268162Z",
     "iopub.status.busy": "2023-06-23T09:37:43.267753Z",
     "iopub.status.idle": "2023-06-23T09:37:44.315942Z",
     "shell.execute_reply": "2023-06-23T09:37:44.314778Z"
    },
    "papermill": {
     "duration": 1.075252,
     "end_time": "2023-06-23T09:37:44.318424",
     "exception": false,
     "start_time": "2023-06-23T09:37:43.243172",
     "status": "completed"
    },
    "tags": []
   },
   "outputs": [
    {
     "name": "stdout",
     "output_type": "stream",
     "text": [
      "Traceback (most recent call last):\r\n",
      "  File \"<stdin>\", line 1, in <module>\r\n",
      "ModuleNotFoundError: No module named 'utils'\r\n"
     ]
    }
   ],
   "source": [
    "!/kaggle/working/yolov5/data/scripts/download_weights.sh"
   ]
  },
  {
   "cell_type": "code",
   "execution_count": 32,
   "id": "6385958b",
   "metadata": {
    "editable": false,
    "execution": {
     "iopub.execute_input": "2023-06-23T09:37:44.367447Z",
     "iopub.status.busy": "2023-06-23T09:37:44.367092Z",
     "iopub.status.idle": "2023-06-23T09:37:44.371746Z",
     "shell.execute_reply": "2023-06-23T09:37:44.370768Z"
    },
    "papermill": {
     "duration": 0.031327,
     "end_time": "2023-06-23T09:37:44.373735",
     "exception": false,
     "start_time": "2023-06-23T09:37:44.342408",
     "status": "completed"
    },
    "tags": []
   },
   "outputs": [],
   "source": [
    "# !cat download_weights.sh"
   ]
  },
  {
   "cell_type": "code",
   "execution_count": null,
   "id": "325dbe29",
   "metadata": {
    "editable": false,
    "papermill": {
     "duration": 0.023299,
     "end_time": "2023-06-23T09:37:44.420849",
     "exception": false,
     "start_time": "2023-06-23T09:37:44.397550",
     "status": "completed"
    },
    "tags": []
   },
   "outputs": [],
   "source": []
  },
  {
   "cell_type": "code",
   "execution_count": 33,
   "id": "4d84cfb2",
   "metadata": {
    "editable": false,
    "execution": {
     "iopub.execute_input": "2023-06-23T09:37:44.469418Z",
     "iopub.status.busy": "2023-06-23T09:37:44.468593Z",
     "iopub.status.idle": "2023-06-23T09:37:44.475183Z",
     "shell.execute_reply": "2023-06-23T09:37:44.473708Z"
    },
    "papermill": {
     "duration": 0.032876,
     "end_time": "2023-06-23T09:37:44.477140",
     "exception": false,
     "start_time": "2023-06-23T09:37:44.444264",
     "status": "completed"
    },
    "tags": []
   },
   "outputs": [
    {
     "name": "stdout",
     "output_type": "stream",
     "text": [
      "[Errno 2] No such file or directory: 'data'\n",
      "/kaggle/working/yolov5/data/scripts\n"
     ]
    }
   ],
   "source": [
    "%cd data"
   ]
  },
  {
   "cell_type": "code",
   "execution_count": 34,
   "id": "adb92476",
   "metadata": {
    "editable": false,
    "execution": {
     "iopub.execute_input": "2023-06-23T09:37:44.526131Z",
     "iopub.status.busy": "2023-06-23T09:37:44.525317Z",
     "iopub.status.idle": "2023-06-23T09:37:44.529704Z",
     "shell.execute_reply": "2023-06-23T09:37:44.528853Z"
    },
    "papermill": {
     "duration": 0.031061,
     "end_time": "2023-06-23T09:37:44.531660",
     "exception": false,
     "start_time": "2023-06-23T09:37:44.500599",
     "status": "completed"
    },
    "tags": []
   },
   "outputs": [],
   "source": [
    "# !cat coco128.yaml"
   ]
  },
  {
   "cell_type": "code",
   "execution_count": 35,
   "id": "582ccc12",
   "metadata": {
    "editable": false,
    "execution": {
     "iopub.execute_input": "2023-06-23T09:37:44.581256Z",
     "iopub.status.busy": "2023-06-23T09:37:44.580462Z",
     "iopub.status.idle": "2023-06-23T09:37:45.251395Z",
     "shell.execute_reply": "2023-06-23T09:37:45.249949Z"
    },
    "papermill": {
     "duration": 0.696739,
     "end_time": "2023-06-23T09:37:45.252738",
     "exception": true,
     "start_time": "2023-06-23T09:37:44.555999",
     "status": "failed"
    },
    "tags": []
   },
   "outputs": [
    {
     "ename": "FileNotFoundError",
     "evalue": "[Errno 2] No such file or directory: 'coco128.yaml'",
     "output_type": "error",
     "traceback": [
      "\u001b[0;31m---------------------------------------------------------------------------\u001b[0m",
      "\u001b[0;31mFileNotFoundError\u001b[0m                         Traceback (most recent call last)",
      "Cell \u001b[0;32mIn[35], line 1\u001b[0m\n\u001b[0;32m----> 1\u001b[0m \u001b[38;5;28;01mwith\u001b[39;00m \u001b[38;5;28;43mopen\u001b[39;49m\u001b[43m(\u001b[49m\u001b[38;5;124;43m'\u001b[39;49m\u001b[38;5;124;43mcoco128.yaml\u001b[39;49m\u001b[38;5;124;43m'\u001b[39;49m\u001b[43m,\u001b[49m\u001b[43m \u001b[49m\u001b[38;5;124;43m'\u001b[39;49m\u001b[38;5;124;43mr\u001b[39;49m\u001b[38;5;124;43m'\u001b[39;49m\u001b[43m)\u001b[49m \u001b[38;5;28;01mas\u001b[39;00m file:\n\u001b[1;32m      2\u001b[0m     yaml_data \u001b[38;5;241m=\u001b[39m yaml\u001b[38;5;241m.\u001b[39msafe_load(file)\n\u001b[1;32m      4\u001b[0m \u001b[38;5;66;03m# Now you have the YAML data as a dictionary\u001b[39;00m\n",
      "File \u001b[0;32m/opt/conda/lib/python3.10/site-packages/IPython/core/interactiveshell.py:284\u001b[0m, in \u001b[0;36m_modified_open\u001b[0;34m(file, *args, **kwargs)\u001b[0m\n\u001b[1;32m    277\u001b[0m \u001b[38;5;28;01mif\u001b[39;00m file \u001b[38;5;129;01min\u001b[39;00m {\u001b[38;5;241m0\u001b[39m, \u001b[38;5;241m1\u001b[39m, \u001b[38;5;241m2\u001b[39m}:\n\u001b[1;32m    278\u001b[0m     \u001b[38;5;28;01mraise\u001b[39;00m \u001b[38;5;167;01mValueError\u001b[39;00m(\n\u001b[1;32m    279\u001b[0m         \u001b[38;5;124mf\u001b[39m\u001b[38;5;124m\"\u001b[39m\u001b[38;5;124mIPython won\u001b[39m\u001b[38;5;124m'\u001b[39m\u001b[38;5;124mt let you open fd=\u001b[39m\u001b[38;5;132;01m{\u001b[39;00mfile\u001b[38;5;132;01m}\u001b[39;00m\u001b[38;5;124m by default \u001b[39m\u001b[38;5;124m\"\u001b[39m\n\u001b[1;32m    280\u001b[0m         \u001b[38;5;124m\"\u001b[39m\u001b[38;5;124mas it is likely to crash IPython. If you know what you are doing, \u001b[39m\u001b[38;5;124m\"\u001b[39m\n\u001b[1;32m    281\u001b[0m         \u001b[38;5;124m\"\u001b[39m\u001b[38;5;124myou can use builtins\u001b[39m\u001b[38;5;124m'\u001b[39m\u001b[38;5;124m open.\u001b[39m\u001b[38;5;124m\"\u001b[39m\n\u001b[1;32m    282\u001b[0m     )\n\u001b[0;32m--> 284\u001b[0m \u001b[38;5;28;01mreturn\u001b[39;00m \u001b[43mio_open\u001b[49m\u001b[43m(\u001b[49m\u001b[43mfile\u001b[49m\u001b[43m,\u001b[49m\u001b[43m \u001b[49m\u001b[38;5;241;43m*\u001b[39;49m\u001b[43margs\u001b[49m\u001b[43m,\u001b[49m\u001b[43m \u001b[49m\u001b[38;5;241;43m*\u001b[39;49m\u001b[38;5;241;43m*\u001b[39;49m\u001b[43mkwargs\u001b[49m\u001b[43m)\u001b[49m\n",
      "\u001b[0;31mFileNotFoundError\u001b[0m: [Errno 2] No such file or directory: 'coco128.yaml'"
     ]
    }
   ],
   "source": [
    "with open('coco128.yaml', 'r') as file:\n",
    "    yaml_data = yaml.safe_load(file)\n",
    "\n",
    "# Now you have the YAML data as a dictionary\n",
    "print(yaml_data)\n"
   ]
  },
  {
   "cell_type": "code",
   "execution_count": null,
   "id": "0db5fd56",
   "metadata": {
    "editable": false,
    "execution": {
     "iopub.execute_input": "2023-06-23T06:57:54.576960Z",
     "iopub.status.busy": "2023-06-23T06:57:54.576588Z",
     "iopub.status.idle": "2023-06-23T06:57:54.583914Z",
     "shell.execute_reply": "2023-06-23T06:57:54.582927Z",
     "shell.execute_reply.started": "2023-06-23T06:57:54.576930Z"
    },
    "papermill": {
     "duration": null,
     "end_time": null,
     "exception": null,
     "start_time": null,
     "status": "pending"
    },
    "tags": []
   },
   "outputs": [],
   "source": [
    "yaml_data['path'] = '/kaggle/input/face-mask-detection'\n",
    "yaml_data['train'] = '/kaggle/working/dataset/train/images'\n",
    "yaml_data['val'] = '/kaggle/working/dataset/test/images'\n",
    "del yaml_data['test']\n"
   ]
  },
  {
   "cell_type": "code",
   "execution_count": null,
   "id": "17564b11",
   "metadata": {
    "editable": false,
    "execution": {
     "iopub.execute_input": "2023-06-23T06:57:57.277822Z",
     "iopub.status.busy": "2023-06-23T06:57:57.277358Z",
     "iopub.status.idle": "2023-06-23T06:57:57.288941Z",
     "shell.execute_reply": "2023-06-23T06:57:57.287312Z",
     "shell.execute_reply.started": "2023-06-23T06:57:57.277783Z"
    },
    "papermill": {
     "duration": null,
     "end_time": null,
     "exception": null,
     "start_time": null,
     "status": "pending"
    },
    "tags": []
   },
   "outputs": [],
   "source": [
    "yaml_data['names']={\n",
    "    0:'without_mask',\n",
    "    1:'with_mask',\n",
    "    2:'mask_weared_incorrect'\n",
    "}"
   ]
  },
  {
   "cell_type": "code",
   "execution_count": null,
   "id": "218bcece",
   "metadata": {
    "editable": false,
    "execution": {
     "iopub.execute_input": "2023-06-23T06:57:59.697042Z",
     "iopub.status.busy": "2023-06-23T06:57:59.696675Z",
     "iopub.status.idle": "2023-06-23T06:57:59.704721Z",
     "shell.execute_reply": "2023-06-23T06:57:59.703825Z",
     "shell.execute_reply.started": "2023-06-23T06:57:59.697013Z"
    },
    "papermill": {
     "duration": null,
     "end_time": null,
     "exception": null,
     "start_time": null,
     "status": "pending"
    },
    "tags": []
   },
   "outputs": [],
   "source": [
    "yaml_data"
   ]
  },
  {
   "cell_type": "code",
   "execution_count": null,
   "id": "28e3f1c7",
   "metadata": {
    "editable": false,
    "execution": {
     "iopub.execute_input": "2023-06-23T06:58:06.617049Z",
     "iopub.status.busy": "2023-06-23T06:58:06.616679Z",
     "iopub.status.idle": "2023-06-23T06:58:06.623237Z",
     "shell.execute_reply": "2023-06-23T06:58:06.622100Z",
     "shell.execute_reply.started": "2023-06-23T06:58:06.617019Z"
    },
    "papermill": {
     "duration": null,
     "end_time": null,
     "exception": null,
     "start_time": null,
     "status": "pending"
    },
    "tags": []
   },
   "outputs": [],
   "source": [
    "%cd ../datasets/coco128"
   ]
  },
  {
   "cell_type": "code",
   "execution_count": null,
   "id": "aba2b92f",
   "metadata": {
    "editable": false,
    "execution": {
     "iopub.execute_input": "2023-06-23T06:59:11.764059Z",
     "iopub.status.busy": "2023-06-23T06:59:11.763633Z",
     "iopub.status.idle": "2023-06-23T06:59:11.772214Z",
     "shell.execute_reply": "2023-06-23T06:59:11.771296Z",
     "shell.execute_reply.started": "2023-06-23T06:59:11.764027Z"
    },
    "papermill": {
     "duration": null,
     "end_time": null,
     "exception": null,
     "start_time": null,
     "status": "pending"
    },
    "tags": []
   },
   "outputs": [],
   "source": [
    "file=open(\"/kaggle/working/yolov5/coco128.yaml\",\"w\")\n",
    "yaml.dump(yaml_data,file)\n",
    "file.close()"
   ]
  },
  {
   "cell_type": "code",
   "execution_count": null,
   "id": "7f6f2afd",
   "metadata": {
    "editable": false,
    "papermill": {
     "duration": null,
     "end_time": null,
     "exception": null,
     "start_time": null,
     "status": "pending"
    },
    "tags": []
   },
   "outputs": [],
   "source": []
  },
  {
   "cell_type": "markdown",
   "id": "886c05db",
   "metadata": {
    "editable": false,
    "execution": {
     "iopub.execute_input": "2023-06-23T05:40:19.408632Z",
     "iopub.status.busy": "2023-06-23T05:40:19.408189Z",
     "iopub.status.idle": "2023-06-23T05:40:19.791419Z",
     "shell.execute_reply": "2023-06-23T05:40:19.790153Z",
     "shell.execute_reply.started": "2023-06-23T05:40:19.408605Z"
    },
    "papermill": {
     "duration": null,
     "end_time": null,
     "exception": null,
     "start_time": null,
     "status": "pending"
    },
    "tags": []
   },
   "source": [
    "\n",
    "from comet_ml import Experiment\n",
    "from comet_ml.integration.pytorch import log_model\n",
    "\n",
    "experiment = Experiment(\n",
    "  api_key = \"iLnNG9eEIRN38vbmJaQB4Xefs\",\n",
    "  project_name = \"maskdetection2\",\n",
    "  workspace=\"saireddy\"\n",
    ")\n",
    "# Report multiple hyperparameters using a dictionary:\n",
    "hyper_params = {\n",
    "   \"learning_rate\": 0.5,\n",
    "   \"steps\": 100000,\n",
    "   \"batch_size\": 50,\n",
    "}\n",
    "experiment.log_parameters(hyper_params)\n",
    "\n",
    "# Initialize and train your model\n",
    "# model = TheModelClass()\n",
    "# train(model)\n",
    "\n",
    "# Seamlessly log your Pytorch model\n",
    "\n"
   ]
  },
  {
   "cell_type": "markdown",
   "id": "07bad2a6",
   "metadata": {
    "_kg_hide-input": true,
    "editable": false,
    "execution": {
     "iopub.execute_input": "2023-06-22T21:28:46.984448Z",
     "iopub.status.busy": "2023-06-22T21:28:46.983995Z",
     "iopub.status.idle": "2023-06-22T22:23:32.627845Z",
     "shell.execute_reply": "2023-06-22T22:23:32.626413Z",
     "shell.execute_reply.started": "2023-06-22T21:28:46.984412Z"
    },
    "papermill": {
     "duration": null,
     "end_time": null,
     "exception": null,
     "start_time": null,
     "status": "pending"
    },
    "tags": []
   },
   "source": [
    "\n",
    "!python train.py --img 416 --batch 16 --epoch 600 --data coco128.yaml --weights yolov5l.pt --nosave --cache\n",
    "log_model(experiment, model=None, model_name=\"TheModel\")"
   ]
  },
  {
   "cell_type": "code",
   "execution_count": null,
   "id": "ef2096c7",
   "metadata": {
    "execution": {
     "iopub.execute_input": "2023-06-23T07:01:02.857510Z",
     "iopub.status.busy": "2023-06-23T07:01:02.857092Z",
     "iopub.status.idle": "2023-06-23T07:32:28.323054Z",
     "shell.execute_reply": "2023-06-23T07:32:28.321806Z",
     "shell.execute_reply.started": "2023-06-23T07:01:02.857475Z"
    },
    "papermill": {
     "duration": null,
     "end_time": null,
     "exception": null,
     "start_time": null,
     "status": "pending"
    },
    "tags": []
   },
   "outputs": [],
   "source": [
    "!python train.py --img 416 --batch 16 --epoch 100 --data coco128.yaml --weights yolov5l.pt --nosave --cache"
   ]
  },
  {
   "cell_type": "code",
   "execution_count": null,
   "id": "ad480493",
   "metadata": {
    "execution": {
     "iopub.execute_input": "2023-06-23T06:59:42.746792Z",
     "iopub.status.busy": "2023-06-23T06:59:42.746424Z",
     "iopub.status.idle": "2023-06-23T06:59:42.754325Z",
     "shell.execute_reply": "2023-06-23T06:59:42.753371Z",
     "shell.execute_reply.started": "2023-06-23T06:59:42.746751Z"
    },
    "papermill": {
     "duration": null,
     "end_time": null,
     "exception": null,
     "start_time": null,
     "status": "pending"
    },
    "tags": []
   },
   "outputs": [],
   "source": [
    "%cd .."
   ]
  },
  {
   "cell_type": "code",
   "execution_count": null,
   "id": "20120f3b",
   "metadata": {
    "papermill": {
     "duration": null,
     "end_time": null,
     "exception": null,
     "start_time": null,
     "status": "pending"
    },
    "tags": []
   },
   "outputs": [],
   "source": [
    "%cd train"
   ]
  },
  {
   "cell_type": "code",
   "execution_count": null,
   "id": "c80777ca",
   "metadata": {
    "papermill": {
     "duration": null,
     "end_time": null,
     "exception": null,
     "start_time": null,
     "status": "pending"
    },
    "tags": []
   },
   "outputs": [],
   "source": [
    "cd exp2/"
   ]
  },
  {
   "cell_type": "code",
   "execution_count": null,
   "id": "00197944",
   "metadata": {
    "papermill": {
     "duration": null,
     "end_time": null,
     "exception": null,
     "start_time": null,
     "status": "pending"
    },
    "tags": []
   },
   "outputs": [],
   "source": [
    "%cd weights"
   ]
  },
  {
   "cell_type": "code",
   "execution_count": null,
   "id": "d370bb2d",
   "metadata": {
    "papermill": {
     "duration": null,
     "end_time": null,
     "exception": null,
     "start_time": null,
     "status": "pending"
    },
    "tags": []
   },
   "outputs": [],
   "source": [
    "!ls"
   ]
  },
  {
   "cell_type": "code",
   "execution_count": null,
   "id": "fd62beb8",
   "metadata": {
    "execution": {
     "iopub.execute_input": "2023-06-23T08:20:26.188796Z",
     "iopub.status.busy": "2023-06-23T08:20:26.188099Z",
     "iopub.status.idle": "2023-06-23T08:20:26.196283Z",
     "shell.execute_reply": "2023-06-23T08:20:26.195274Z",
     "shell.execute_reply.started": "2023-06-23T08:20:26.188763Z"
    },
    "papermill": {
     "duration": null,
     "end_time": null,
     "exception": null,
     "start_time": null,
     "status": "pending"
    },
    "tags": []
   },
   "outputs": [],
   "source": [
    "%cd .."
   ]
  },
  {
   "cell_type": "code",
   "execution_count": null,
   "id": "788d832b",
   "metadata": {
    "execution": {
     "iopub.execute_input": "2023-06-23T08:23:27.579297Z",
     "iopub.status.busy": "2023-06-23T08:23:27.578185Z",
     "iopub.status.idle": "2023-06-23T08:23:27.587464Z",
     "shell.execute_reply": "2023-06-23T08:23:27.586331Z",
     "shell.execute_reply.started": "2023-06-23T08:23:27.579222Z"
    },
    "papermill": {
     "duration": null,
     "end_time": null,
     "exception": null,
     "start_time": null,
     "status": "pending"
    },
    "tags": []
   },
   "outputs": [],
   "source": [
    "os.listdir('/kaggle/working/yolov5/runs/train/exp2')"
   ]
  },
  {
   "cell_type": "code",
   "execution_count": null,
   "id": "d0b985c0",
   "metadata": {
    "execution": {
     "iopub.execute_input": "2023-06-23T08:23:38.488495Z",
     "iopub.status.busy": "2023-06-23T08:23:38.487779Z",
     "iopub.status.idle": "2023-06-23T08:23:58.139280Z",
     "shell.execute_reply": "2023-06-23T08:23:58.138145Z",
     "shell.execute_reply.started": "2023-06-23T08:23:38.488459Z"
    },
    "papermill": {
     "duration": null,
     "end_time": null,
     "exception": null,
     "start_time": null,
     "status": "pending"
    },
    "tags": []
   },
   "outputs": [],
   "source": [
    "!python val.py --weights /kaggle/working/yolov5/runs/train/exp2/weights/last.pt --data coco128.yaml --img 416"
   ]
  },
  {
   "cell_type": "code",
   "execution_count": null,
   "id": "c151ce53",
   "metadata": {
    "execution": {
     "iopub.execute_input": "2023-06-23T08:25:58.329100Z",
     "iopub.status.busy": "2023-06-23T08:25:58.328722Z",
     "iopub.status.idle": "2023-06-23T08:25:59.346008Z",
     "shell.execute_reply": "2023-06-23T08:25:59.344702Z",
     "shell.execute_reply.started": "2023-06-23T08:25:58.329068Z"
    },
    "papermill": {
     "duration": null,
     "end_time": null,
     "exception": null,
     "start_time": null,
     "status": "pending"
    },
    "tags": []
   },
   "outputs": [],
   "source": [
    "!ls /kaggle/working/yolov5/runs/val/exp3"
   ]
  },
  {
   "cell_type": "code",
   "execution_count": null,
   "id": "e88292aa",
   "metadata": {
    "execution": {
     "iopub.execute_input": "2023-06-23T08:25:09.139149Z",
     "iopub.status.busy": "2023-06-23T08:25:09.138716Z",
     "iopub.status.idle": "2023-06-23T08:25:09.145113Z",
     "shell.execute_reply": "2023-06-23T08:25:09.144091Z",
     "shell.execute_reply.started": "2023-06-23T08:25:09.139113Z"
    },
    "papermill": {
     "duration": null,
     "end_time": null,
     "exception": null,
     "start_time": null,
     "status": "pending"
    },
    "tags": []
   },
   "outputs": [],
   "source": [
    "import matplotlib.pyplot as plt"
   ]
  },
  {
   "cell_type": "code",
   "execution_count": null,
   "id": "55c865cd",
   "metadata": {
    "execution": {
     "iopub.execute_input": "2023-06-23T08:42:14.949920Z",
     "iopub.status.busy": "2023-06-23T08:42:14.948833Z",
     "iopub.status.idle": "2023-06-23T08:42:15.016865Z",
     "shell.execute_reply": "2023-06-23T08:42:15.015648Z",
     "shell.execute_reply.started": "2023-06-23T08:42:14.949879Z"
    },
    "papermill": {
     "duration": null,
     "end_time": null,
     "exception": null,
     "start_time": null,
     "status": "pending"
    },
    "tags": []
   },
   "outputs": [],
   "source": [
    "from PIL import Image\n",
    "\n",
    "#read the image\n",
    "# im = Image.open('/kaggle/working/yolov5/runs/val/exp3/val_batch0_labels.jpg')\n",
    "import matplotlib.image as mpimg\n",
    "img = mpimg.imread('/kaggle/working/yolov5/runs/detect/exp/labels')\n",
    "imgplot = plt.imshow(img)\n",
    "plt.show()"
   ]
  },
  {
   "cell_type": "code",
   "execution_count": null,
   "id": "47891f14",
   "metadata": {
    "execution": {
     "iopub.execute_input": "2023-06-23T08:43:35.688787Z",
     "iopub.status.busy": "2023-06-23T08:43:35.688369Z",
     "iopub.status.idle": "2023-06-23T08:43:36.642594Z",
     "shell.execute_reply": "2023-06-23T08:43:36.641471Z",
     "shell.execute_reply.started": "2023-06-23T08:43:35.688754Z"
    },
    "papermill": {
     "duration": null,
     "end_time": null,
     "exception": null,
     "start_time": null,
     "status": "pending"
    },
    "tags": []
   },
   "outputs": [],
   "source": [
    "!cat /kaggle/working/yolov5/runs/detect/exp/labels/face-mask-study.txt"
   ]
  },
  {
   "cell_type": "code",
   "execution_count": null,
   "id": "e51a470f",
   "metadata": {
    "editable": false,
    "papermill": {
     "duration": null,
     "end_time": null,
     "exception": null,
     "start_time": null,
     "status": "pending"
    },
    "tags": []
   },
   "outputs": [],
   "source": [
    "!wandb input"
   ]
  },
  {
   "cell_type": "code",
   "execution_count": null,
   "id": "65f2b199",
   "metadata": {
    "editable": false,
    "papermill": {
     "duration": null,
     "end_time": null,
     "exception": null,
     "start_time": null,
     "status": "pending"
    },
    "tags": []
   },
   "outputs": [],
   "source": [
    "!wandb login"
   ]
  },
  {
   "cell_type": "code",
   "execution_count": null,
   "id": "deb59d27",
   "metadata": {
    "execution": {
     "iopub.execute_input": "2023-06-23T08:22:19.943992Z",
     "iopub.status.busy": "2023-06-23T08:22:19.943178Z",
     "iopub.status.idle": "2023-06-23T08:22:20.878419Z",
     "shell.execute_reply": "2023-06-23T08:22:20.877193Z",
     "shell.execute_reply.started": "2023-06-23T08:22:19.943954Z"
    },
    "papermill": {
     "duration": null,
     "end_time": null,
     "exception": null,
     "start_time": null,
     "status": "pending"
    },
    "tags": []
   },
   "outputs": [],
   "source": [
    "!ls"
   ]
  },
  {
   "cell_type": "code",
   "execution_count": null,
   "id": "e1f13bf2",
   "metadata": {
    "editable": false,
    "papermill": {
     "duration": null,
     "end_time": null,
     "exception": null,
     "start_time": null,
     "status": "pending"
    },
    "tags": []
   },
   "outputs": [],
   "source": [
    "%cd .."
   ]
  },
  {
   "cell_type": "markdown",
   "id": "56be7615",
   "metadata": {
    "editable": false,
    "execution": {
     "iopub.execute_input": "2023-06-22T20:43:19.719649Z",
     "iopub.status.busy": "2023-06-22T20:43:19.718871Z"
    },
    "papermill": {
     "duration": null,
     "end_time": null,
     "exception": null,
     "start_time": null,
     "status": "pending"
    },
    "tags": []
   },
   "source": [
    "## !python train.py --img 416 --batch 16 --epoch 100 --data coco128.yaml --weights yolov5l.pt --nosave --cache\n",
    "input_value = 2\n",
    "\n",
    "# Monkey-patch the input() function to return the desired value\n",
    "wandb.util._console_input = lambda prompt=None: input_value"
   ]
  },
  {
   "cell_type": "code",
   "execution_count": null,
   "id": "361a9882",
   "metadata": {
    "execution": {
     "iopub.execute_input": "2023-06-23T09:10:38.438789Z",
     "iopub.status.busy": "2023-06-23T09:10:38.438393Z",
     "iopub.status.idle": "2023-06-23T09:10:51.073508Z",
     "shell.execute_reply": "2023-06-23T09:10:51.072326Z",
     "shell.execute_reply.started": "2023-06-23T09:10:38.438757Z"
    },
    "papermill": {
     "duration": null,
     "end_time": null,
     "exception": null,
     "start_time": null,
     "status": "pending"
    },
    "tags": []
   },
   "outputs": [],
   "source": [
    "!python detect.py --source /kaggle/input/Newimgs1  --weights /kaggle/working/yolov5/runs/train/exp2/weights/last.pt --img 416 --save-txt --save-conf"
   ]
  },
  {
   "cell_type": "code",
   "execution_count": null,
   "id": "66f2eefa",
   "metadata": {
    "execution": {
     "iopub.execute_input": "2023-06-23T09:10:59.653842Z",
     "iopub.status.busy": "2023-06-23T09:10:59.653443Z",
     "iopub.status.idle": "2023-06-23T09:11:00.595693Z",
     "shell.execute_reply": "2023-06-23T09:11:00.594323Z",
     "shell.execute_reply.started": "2023-06-23T09:10:59.653809Z"
    },
    "papermill": {
     "duration": null,
     "end_time": null,
     "exception": null,
     "start_time": null,
     "status": "pending"
    },
    "tags": []
   },
   "outputs": [],
   "source": [
    "!ls runs/detect/exp4/labels"
   ]
  },
  {
   "cell_type": "code",
   "execution_count": null,
   "id": "8f4e2db1",
   "metadata": {
    "execution": {
     "iopub.execute_input": "2023-06-23T08:44:14.879620Z",
     "iopub.status.busy": "2023-06-23T08:44:14.878379Z",
     "iopub.status.idle": "2023-06-23T08:44:14.911683Z",
     "shell.execute_reply": "2023-06-23T08:44:14.910795Z",
     "shell.execute_reply.started": "2023-06-23T08:44:14.879573Z"
    },
    "papermill": {
     "duration": null,
     "end_time": null,
     "exception": null,
     "start_time": null,
     "status": "pending"
    },
    "tags": []
   },
   "outputs": [],
   "source": [
    "import cv2"
   ]
  },
  {
   "cell_type": "code",
   "execution_count": null,
   "id": "100070b7",
   "metadata": {
    "execution": {
     "iopub.execute_input": "2023-06-23T08:53:58.779938Z",
     "iopub.status.busy": "2023-06-23T08:53:58.779095Z",
     "iopub.status.idle": "2023-06-23T08:53:58.799723Z",
     "shell.execute_reply": "2023-06-23T08:53:58.798815Z",
     "shell.execute_reply.started": "2023-06-23T08:53:58.779900Z"
    },
    "papermill": {
     "duration": null,
     "end_time": null,
     "exception": null,
     "start_time": null,
     "status": "pending"
    },
    "tags": []
   },
   "outputs": [],
   "source": [
    "img = cv2.imread('/kaggle/input/testimg/face-mask-study.jpg')"
   ]
  },
  {
   "cell_type": "code",
   "execution_count": null,
   "id": "c09475c2",
   "metadata": {
    "execution": {
     "iopub.execute_input": "2023-06-23T09:22:12.149499Z",
     "iopub.status.busy": "2023-06-23T09:22:12.148828Z",
     "iopub.status.idle": "2023-06-23T09:22:12.188087Z",
     "shell.execute_reply": "2023-06-23T09:22:12.187147Z",
     "shell.execute_reply.started": "2023-06-23T09:22:12.149468Z"
    },
    "papermill": {
     "duration": null,
     "end_time": null,
     "exception": null,
     "start_time": null,
     "status": "pending"
    },
    "tags": []
   },
   "outputs": [],
   "source": [
    "# 0.7125 0.301389 0.134375 0.286111 0.958417\n",
    "\n",
    "start_point = (round(71), round(30))\n",
    "print(start_point)\n",
    "\n",
    "# 1 0.7125 0.301389 0.134375 0.286111 0.958417\n",
    "# 0 0.325391 0.305556 0.132031 0.288889 0.966178\n",
    "# 1 0.711719 0.8 0.123438 0.263889 0.968723\n",
    "# 0 0.299609 0.798611 0.125781 0.255556 0.980087\n",
    "\n",
    "\n",
    "# Ending coordinate, here (220, 220)\n",
    "# represents the bottom right corner of rectangle\n",
    "end_point = (round(13.4375) ,round(28.6111))\n",
    "  \n",
    "# Blue color in BGR\n",
    "color = (255, 0, 0)\n",
    "  \n",
    "# Line thickness of 2 px\n",
    "thickness = 2\n",
    "  \n",
    "# Using cv2.rectangle() method\n",
    "# Draw a rectangle with blue line borders of thickness of 2 px\n",
    "cv2.rectangle(img, start_point, end_point, color, thickness)\n",
    "cv2.imwrite('/kaggle/working/1.png',img)"
   ]
  },
  {
   "cell_type": "code",
   "execution_count": null,
   "id": "a65c2f3c",
   "metadata": {
    "execution": {
     "iopub.execute_input": "2023-06-23T09:17:09.923485Z",
     "iopub.status.busy": "2023-06-23T09:17:09.923098Z",
     "iopub.status.idle": "2023-06-23T09:17:09.937967Z",
     "shell.execute_reply": "2023-06-23T09:17:09.936957Z",
     "shell.execute_reply.started": "2023-06-23T09:17:09.923454Z"
    },
    "papermill": {
     "duration": null,
     "end_time": null,
     "exception": null,
     "start_time": null,
     "status": "pending"
    },
    "tags": []
   },
   "outputs": [],
   "source": [
    "# Read the annotation file (assuming it's in YOLO format with class index, normalized box coordinates)\n",
    "# with open('/kaggle/working/yolov5/runs/detect/exp/labels/face-mask-study.txt', 'r') as file:\n",
    "# Define a dictionary mapping class indices to shape names\n",
    "class_mapping = {\n",
    "    0: 'circle',\n",
    "    1: 'rectangle',\n",
    "    2: 'triangle',\n",
    "    # Add more class index to shape name mappings as needed\n",
    "}\n",
    "\n",
    "# Read the annotation file (assuming it's in YOLO format with class index, normalized box coordinates)\n",
    "with open('/kaggle/working/yolov5/runs/detect/exp/labels/face-mask-study.txt', 'r') as file:\n",
    "    lines = file.readlines()\n",
    "\n",
    "# Extract the bounding box coordinates and associated shape name\n",
    "for line in lines:\n",
    "    # Split the line by spaces\n",
    "    data = line.strip().split(' ')\n",
    "    \n",
    "    # Extract the class index and normalized box coordinates\n",
    "    class_index = int(data[0])\n",
    "    x_center = float(data[1])\n",
    "    y_center = float(data[2])\n",
    "    width = float(data[3])\n",
    "    height = float(data[4])\n",
    "    \n",
    "    # Convert the normalized box coordinates to actual pixel values\n",
    "    image_width = 416  # Width of the input image (adjust this according to your setup)\n",
    "    image_height = 416  # Height of the input image (adjust this according to your setup)\n",
    "    \n",
    "    box_width = width * image_width\n",
    "    box_height = height * image_height\n",
    "    \n",
    "    # Calculate the top-left corner coordinates of the bounding box\n",
    "    top_left_x = (x_center * image_width) - (box_width / 2)\n",
    "    top_left_y = (y_center * image_height) - (box_height / 2)\n",
    "    \n",
    "    # Retrieve the shape name based on the class index\n",
    "    shape_name = class_mapping.get(class_index)\n",
    "    \n",
    "    # Print the shape name and bounding box shape\n",
    "    print(f\"Shape name: {shape_name}\")\n",
    "    print(f\"Bounding box shape: {box_width} x {box_height}\")\n"
   ]
  },
  {
   "cell_type": "code",
   "execution_count": null,
   "id": "16f4771a",
   "metadata": {
    "execution": {
     "iopub.execute_input": "2023-06-23T09:30:55.394669Z",
     "iopub.status.busy": "2023-06-23T09:30:55.394032Z",
     "iopub.status.idle": "2023-06-23T09:30:55.439696Z",
     "shell.execute_reply": "2023-06-23T09:30:55.438621Z",
     "shell.execute_reply.started": "2023-06-23T09:30:55.394637Z"
    },
    "papermill": {
     "duration": null,
     "end_time": null,
     "exception": null,
     "start_time": null,
     "status": "pending"
    },
    "tags": []
   },
   "outputs": [],
   "source": [
    "# import cv2\n",
    "\n",
    "# # Read the image\n",
    "image=img\n",
    "# image = cv2.imread('your_image.jpg')  # Replace 'your_image.jpg' with the actual image file path\n",
    "\n",
    "# Iterate through each annotation line\n",
    "with open('/kaggle/working/yolov5/runs/detect/exp/labels/face-mask-study.txt', 'r') as file:\n",
    "    lines = file.readlines()\n",
    "\n",
    "for line in lines:\n",
    "    # Split the line by spaces\n",
    "    data = line.strip().split(' ')\n",
    "    \n",
    "    # Extract the class index and bounding box coordinates\n",
    "    class_index = int(data[0])\n",
    "    x_center = float(data[1])\n",
    "    y_center = float(data[2])\n",
    "    width = float(data[3])\n",
    "    height = float(data[4])\n",
    "    \n",
    "    # Convert the normalized coordinates to pixel values\n",
    "    image_height, image_width, _ = image.shape\n",
    "    \n",
    "    box_width = int(width * image_width)\n",
    "    box_height = int(height * image_height)\n",
    "    \n",
    "    top_left_x = int((x_center * image_width) - (box_width / 2))\n",
    "    top_left_y = int((y_center * image_height) - (box_height / 2))\n",
    "    \n",
    "    # Define the bounding box coordinates\n",
    "    bottom_right_x = top_left_x + box_width\n",
    "    bottom_right_y = top_left_y + box_height\n",
    "    \n",
    "    # Draw the bounding box on the image\n",
    "    color = (0, 255, 0)  # Green color (you can change it as desired)\n",
    "    thickness = 2  # Line thickness (you can change it as desired)\n",
    "    cv2.rectangle(image, (top_left_x, top_left_y), (bottom_right_x, bottom_right_y), color, thickness)\n",
    "    \n",
    "    # Add class label to the bounding box\n",
    "    class_list = ['without_mask', 'with_mask', 'mask_weared_incorrect']\n",
    "    cls = class_list[class_index]\n",
    "    label = f\"Class {cls}\"\n",
    "    font = cv2.FONT_HERSHEY_SIMPLEX\n",
    "    font_scale = 0.8\n",
    "    text_color = (0, 255, 0)  # Green color (you can change it as desired)\n",
    "    text_thickness = 2\n",
    "    cv2.putText(image, label, (top_left_x, top_left_y - 10), font, font_scale, text_color, text_thickness)\n",
    "    \n",
    "# Display the annotated image\n",
    "cv2.imwrite('/kaggle/working/1.png',image)\n",
    "\n",
    "\n"
   ]
  },
  {
   "cell_type": "code",
   "execution_count": null,
   "id": "e95fe8d7",
   "metadata": {
    "papermill": {
     "duration": null,
     "end_time": null,
     "exception": null,
     "start_time": null,
     "status": "pending"
    },
    "tags": []
   },
   "outputs": [],
   "source": []
  }
 ],
 "metadata": {
  "kernelspec": {
   "display_name": "Python 3",
   "language": "python",
   "name": "python3"
  },
  "language_info": {
   "codemirror_mode": {
    "name": "ipython",
    "version": 3
   },
   "file_extension": ".py",
   "mimetype": "text/x-python",
   "name": "python",
   "nbconvert_exporter": "python",
   "pygments_lexer": "ipython3",
   "version": "3.10.10"
  },
  "papermill": {
   "default_parameters": {},
   "duration": 74.811568,
   "end_time": "2023-06-23T09:37:46.199175",
   "environment_variables": {},
   "exception": true,
   "input_path": "__notebook__.ipynb",
   "output_path": "__notebook__.ipynb",
   "parameters": {},
   "start_time": "2023-06-23T09:36:31.387607",
   "version": "2.4.0"
  }
 },
 "nbformat": 4,
 "nbformat_minor": 5
}
